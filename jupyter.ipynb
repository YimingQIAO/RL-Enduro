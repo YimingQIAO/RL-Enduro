{
 "cells": [
  {
   "cell_type": "code",
   "execution_count": 1,
   "metadata": {
    "collapsed": true
   },
   "outputs": [],
   "source": [
    "import gym\n",
    "from atari_wrappers_berkeley import wrap_deepmind\n",
    "import matplotlib.pyplot as plt\n",
    "import warnings"
   ]
  },
  {
   "cell_type": "code",
   "execution_count": 2,
   "outputs": [],
   "source": [
    "warnings.filterwarnings(\"ignore\")"
   ],
   "metadata": {
    "collapsed": false,
    "pycharm": {
     "name": "#%%\n"
    }
   }
  },
  {
   "cell_type": "code",
   "execution_count": 3,
   "outputs": [
    {
     "name": "stdout",
     "output_type": "stream",
     "text": [
      "------------------------------Before Wrap------------------------------\n",
      "Action: Discrete(9)\n",
      "Observation Space: Box(210, 160, 3)\n",
      "------------------------------Before Wrap------------------------------\n",
      "\u001B[33mWARN: gym.spaces.Box autodetected dtype as <class 'numpy.uint8'>. Please provide explicit dtype.\u001B[0m\n",
      "Action: Discrete(9)\n",
      "Observation Space: Box(84, 84, 1)\n"
     ]
    }
   ],
   "source": [
    "env = gym.make('Enduro-v0')\n",
    "env.reset()\n",
    "\n",
    "print(\"---\" * 10 + \"Before Wrap\" + \"---\" * 10)\n",
    "print(\"Action: {}\".format(env.action_space))\n",
    "print(\"Observation Space: {}\".format(env.observation_space))\n",
    "\n",
    "print(\"---\" * 10 + \"Before Wrap\" + \"---\" * 10)\n",
    "env = wrap_deepmind(env)\n",
    "print(\"Action: {}\".format(env.action_space))\n",
    "print(\"Observation Space: {}\".format(env.observation_space))"
   ],
   "metadata": {
    "collapsed": false,
    "pycharm": {
     "name": "#%%\n"
    }
   }
  },
  {
   "cell_type": "code",
   "execution_count": 4,
   "outputs": [],
   "source": [
    "from deeprl_hw2.dqn import DQNAgent\n",
    "from deeprl_hw2.models import LinearNetwork\n",
    "from deeprl_hw2.core import ReplayMemory\n",
    "from deeprl_hw2.policy import GreedyPolicy\n",
    "import torch\n",
    "\n",
    "# hyper parameters\n",
    "replay_buffer_size = 1000000\n",
    "window_size = 4\n",
    "gamma = 0.9\n",
    "target_update_freq = 16\n",
    "num_burn_in = 64\n",
    "train_freq = 4\n",
    "batch_size = 32\n",
    "learning_rate = 0.0001\n",
    "\n",
    "frame_shape = env.observation_space.shape\n",
    "num_actions = env.action_space.n\n",
    "\n",
    "Q_model = LinearNetwork(frame_shape, num_actions)\n",
    "replay_buffer = ReplayMemory(replay_buffer_size, window_size)\n",
    "greedy_policy = GreedyPolicy()"
   ],
   "metadata": {
    "collapsed": false,
    "pycharm": {
     "name": "#%%\n"
    }
   }
  },
  {
   "cell_type": "code",
   "execution_count": 5,
   "outputs": [],
   "source": [
    "agent = DQNAgent(Q_model, replay_buffer, greedy_policy, gamma, target_update_freq, num_burn_in, train_freq, batch_size)"
   ],
   "metadata": {
    "collapsed": false,
    "pycharm": {
     "name": "#%%\n"
    }
   }
  },
  {
   "cell_type": "code",
   "execution_count": 6,
   "outputs": [],
   "source": [
    "agent.compile(optimizer=torch.optim.RMSprop, loss_func=torch.nn.HuberLoss, learning_rate=learning_rate)"
   ],
   "metadata": {
    "collapsed": false,
    "pycharm": {
     "name": "#%%\n"
    }
   }
  },
  {
   "cell_type": "code",
   "execution_count": 7,
   "outputs": [
    {
     "name": "stdout",
     "output_type": "stream",
     "text": [
      "\u001B[33mWARN: <class 'atari_wrappers_berkeley.ClippedRewardsWrapper'> doesn't implement 'reset' method, which is required for wrappers derived directly from Wrapper. Deprecated default implementation is used.\u001B[0m\n"
     ]
    },
    {
     "ename": "AttributeError",
     "evalue": "'ReplayMemory' object has no attribute 'encode_recent_observation'",
     "output_type": "error",
     "traceback": [
      "\u001B[0;31m---------------------------------------------------------------------------\u001B[0m",
      "\u001B[0;31mAttributeError\u001B[0m                            Traceback (most recent call last)",
      "Input \u001B[0;32mIn [7]\u001B[0m, in \u001B[0;36m<cell line: 1>\u001B[0;34m()\u001B[0m\n\u001B[0;32m----> 1\u001B[0m \u001B[43magent\u001B[49m\u001B[38;5;241;43m.\u001B[39;49m\u001B[43mfit\u001B[49m\u001B[43m(\u001B[49m\u001B[43menv\u001B[49m\u001B[43m,\u001B[49m\u001B[43m \u001B[49m\u001B[38;5;241;43m100\u001B[39;49m\u001B[43m,\u001B[49m\u001B[43m \u001B[49m\u001B[38;5;241;43m10000\u001B[39;49m\u001B[43m)\u001B[49m\n",
      "File \u001B[0;32m~/Documents/GitHub/RL_Enduro/deeprl_hw2/dqn.py:183\u001B[0m, in \u001B[0;36mDQNAgent.fit\u001B[0;34m(self, env, num_iterations, max_episode_length)\u001B[0m\n\u001B[1;32m    180\u001B[0m frame_idx \u001B[38;5;241m=\u001B[39m \u001B[38;5;28mself\u001B[39m\u001B[38;5;241m.\u001B[39mmemory_\u001B[38;5;241m.\u001B[39mstore_frame(last_obs)\n\u001B[1;32m    182\u001B[0m \u001B[38;5;66;03m# 3. Get observations (state)\u001B[39;00m\n\u001B[0;32m--> 183\u001B[0m observations \u001B[38;5;241m=\u001B[39m \u001B[38;5;28;43mself\u001B[39;49m\u001B[38;5;241;43m.\u001B[39;49m\u001B[43mmemory_\u001B[49m\u001B[38;5;241;43m.\u001B[39;49m\u001B[43mencode_recent_observation\u001B[49m()\n\u001B[1;32m    185\u001B[0m \u001B[38;5;66;03m# 4. select action\u001B[39;00m\n\u001B[1;32m    186\u001B[0m action \u001B[38;5;241m=\u001B[39m \u001B[38;5;28mself\u001B[39m\u001B[38;5;241m.\u001B[39mselect_action(observations)\n",
      "\u001B[0;31mAttributeError\u001B[0m: 'ReplayMemory' object has no attribute 'encode_recent_observation'"
     ]
    }
   ],
   "source": [
    "agent.fit(env, 100, 10000)"
   ],
   "metadata": {
    "collapsed": false,
    "pycharm": {
     "name": "#%%\n"
    }
   }
  },
  {
   "cell_type": "code",
   "execution_count": null,
   "outputs": [],
   "source": [],
   "metadata": {
    "collapsed": false,
    "pycharm": {
     "name": "#%%\n"
    }
   }
  }
 ],
 "metadata": {
  "kernelspec": {
   "display_name": "Python 3",
   "language": "python",
   "name": "python3"
  },
  "language_info": {
   "codemirror_mode": {
    "name": "ipython",
    "version": 2
   },
   "file_extension": ".py",
   "mimetype": "text/x-python",
   "name": "python",
   "nbconvert_exporter": "python",
   "pygments_lexer": "ipython2",
   "version": "2.7.6"
  }
 },
 "nbformat": 4,
 "nbformat_minor": 0
}