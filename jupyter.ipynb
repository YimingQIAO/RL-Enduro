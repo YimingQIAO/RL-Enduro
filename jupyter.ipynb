{
 "cells": [
  {
   "cell_type": "code",
   "execution_count": null,
   "metadata": {
    "collapsed": true
   },
   "outputs": [],
   "source": [
    "import gym\n",
    "from atari_wrappers_berkeley import wrap_deepmind\n",
    "import matplotlib.pyplot as plt\n",
    "import warnings"
   ]
  },
  {
   "cell_type": "code",
   "execution_count": null,
   "metadata": {
    "collapsed": false,
    "pycharm": {
     "name": "#%%\n"
    }
   },
   "outputs": [],
   "source": [
    "warnings.filterwarnings(\"ignore\")"
   ]
  },
  {
   "cell_type": "code",
   "execution_count": null,
   "metadata": {
    "collapsed": false,
    "pycharm": {
     "name": "#%%\n"
    }
   },
   "outputs": [],
   "source": [
    "env = gym.make('Enduro-v0')\n",
    "env.reset()\n",
    "\n",
    "print(\"---\" * 10 + \"Before Wrap\" + \"---\" * 10)\n",
    "print(\"Action: {}\".format(env.action_space))\n",
    "print(\"Observation Space: {}\".format(env.observation_space))\n",
    "\n",
    "print(\"---\" * 10 + \"Before Wrap\" + \"---\" * 10)\n",
    "env = wrap_deepmind(env)\n",
    "print(\"Action: {}\".format(env.action_space))\n",
    "print(\"Observation Space: {}\".format(env.observation_space))"
   ]
  },
  {
   "cell_type": "code",
   "execution_count": null,
   "metadata": {
    "collapsed": false,
    "pycharm": {
     "name": "#%%\n"
    }
   },
   "outputs": [],
   "source": [
    "from deeprl_hw2.dqn import DQNAgent\n",
    "from deeprl_hw2.models import LinearNetwork\n",
    "from deeprl_hw2.core import ReplayMemory\n",
    "from deeprl_hw2.policy import GreedyPolicy\n",
    "import torch\n",
    "\n",
    "# hyper parameters\n",
    "replay_buffer_size = 1000000\n",
    "window_size = 4\n",
    "gamma = 0.9\n",
    "target_update_freq = 16\n",
    "num_burn_in = 64\n",
    "train_freq = 4\n",
    "batch_size = 32\n",
    "learning_rate = 0.0001\n",
    "learning_start = 10000\n",
    "\n",
    "frame_shape = env.observation_space.shape\n",
    "num_actions = env.action_space.n\n",
    "\n",
    "Q_model = LinearNetwork(frame_shape, num_actions)\n",
    "replay_buffer = ReplayMemory(replay_buffer_size, window_size)\n"
   ]
  },
  {
   "cell_type": "code",
   "execution_count": null,
   "metadata": {
    "collapsed": false,
    "pycharm": {
     "name": "#%%\n"
    }
   },
   "outputs": [],
   "source": [
    "logdir = '/Users/mac_jc/大学/RL/hw2/logs'\n",
    "agent = DQNAgent(Q_model, replay_buffer, gamma, target_update_freq, num_burn_in, train_freq, batch_size,learning_start,logdir)\n"
   ]
  },
  {
   "cell_type": "code",
   "execution_count": null,
   "metadata": {
    "collapsed": false,
    "pycharm": {
     "name": "#%%\n"
    }
   },
   "outputs": [],
   "source": [
    "agent.compile(optimizer=torch.optim.RMSprop, loss_func=torch.nn.HuberLoss,  learning_rate=learning_rate)"
   ]
  },
  {
   "cell_type": "code",
   "execution_count": null,
   "metadata": {
    "collapsed": false,
    "pycharm": {
     "name": "#%%\n"
    }
   },
   "outputs": [],
   "source": [
    "agent.fit(env, 100, 10000)"
   ]
  },
  {
   "cell_type": "code",
   "execution_count": null,
   "metadata": {
    "collapsed": false,
    "pycharm": {
     "name": "#%%\n"
    }
   },
   "outputs": [],
   "source": []
  }
 ],
 "metadata": {
  "kernelspec": {
   "display_name": "Python 3",
   "language": "python",
   "name": "python3"
  },
  "language_info": {
   "codemirror_mode": {
    "name": "ipython",
    "version": 3
   },
   "file_extension": ".py",
   "mimetype": "text/x-python",
   "name": "python",
   "nbconvert_exporter": "python",
   "pygments_lexer": "ipython3",
   "version": "3.7.10"
  }
 },
 "nbformat": 4,
 "nbformat_minor": 0
}
