{
 "cells": [
  {
   "cell_type": "code",
   "execution_count": 9,
   "metadata": {
    "collapsed": true
   },
   "outputs": [],
   "source": [
    "import gym\n",
    "from atari_wrappers_berkeley import wrap_deepmind\n",
    "import matplotlib.pyplot as plt\n",
    "import warnings"
   ]
  },
  {
   "cell_type": "code",
   "execution_count": 10,
   "outputs": [],
   "source": [
    "warnings.filterwarnings(\"ignore\")"
   ],
   "metadata": {
    "collapsed": false,
    "pycharm": {
     "name": "#%%\n"
    }
   }
  },
  {
   "cell_type": "code",
   "execution_count": 11,
   "outputs": [
    {
     "name": "stdout",
     "output_type": "stream",
     "text": [
      "------------------------------Before Wrap------------------------------\n",
      "Action: Discrete(9)\n",
      "Observation Space: Box(210, 160, 3)\n",
      "------------------------------Before Wrap------------------------------\n",
      "\u001B[33mWARN: gym.spaces.Box autodetected dtype as <class 'numpy.uint8'>. Please provide explicit dtype.\u001B[0m\n",
      "Action: Discrete(9)\n",
      "Observation Space: Box(84, 84, 1)\n"
     ]
    }
   ],
   "source": [
    "env = gym.make('Enduro-v0')\n",
    "env.reset()\n",
    "\n",
    "print(\"---\" * 10 + \"Before Wrap\" + \"---\" * 10)\n",
    "print(\"Action: {}\".format(env.action_space))\n",
    "print(\"Observation Space: {}\".format(env.observation_space))\n",
    "\n",
    "print(\"---\" * 10 + \"Before Wrap\" + \"---\" * 10)\n",
    "env = wrap_deepmind(env)\n",
    "print(\"Action: {}\".format(env.action_space))\n",
    "print(\"Observation Space: {}\".format(env.observation_space))"
   ],
   "metadata": {
    "collapsed": false,
    "pycharm": {
     "name": "#%%\n"
    }
   }
  },
  {
   "cell_type": "code",
   "execution_count": 21,
   "outputs": [],
   "source": [
    "from deeprl_hw2.dqn import DQNAgent\n",
    "from deeprl_hw2.models import LinearNetwork\n",
    "from deeprl_hw2.core import ReplayMemory\n",
    "from deeprl_hw2.policy import GreedyPolicy\n",
    "\n",
    "# hyper parameters\n",
    "replay_buffer_size = 1000000\n",
    "window_size = 4\n",
    "gamma = 0.9\n",
    "target_update_freq = 16\n",
    "num_burn_in = 64\n",
    "train_freq = 4\n",
    "batch_size = 32\n",
    "\n",
    "frame_shape = env.observation_space.shape\n",
    "num_actions = env.action_space.n\n",
    "\n",
    "Q_model = LinearNetwork(frame_shape, num_actions)\n",
    "replay_buffer = ReplayMemory(replay_buffer_size, window_size)\n",
    "greedy_policy = GreedyPolicy()\n",
    "\n",
    "agent = DQNAgent(Q_model, replay_buffer, greedy_policy, gamma, target_update_freq, num_burn_in, train_freq, batch_size)"
   ],
   "metadata": {
    "collapsed": false,
    "pycharm": {
     "name": "#%%\n"
    }
   }
  },
  {
   "cell_type": "markdown",
   "source": [],
   "metadata": {
    "collapsed": false
   }
  }
 ],
 "metadata": {
  "kernelspec": {
   "display_name": "Python 3",
   "language": "python",
   "name": "python3"
  },
  "language_info": {
   "codemirror_mode": {
    "name": "ipython",
    "version": 2
   },
   "file_extension": ".py",
   "mimetype": "text/x-python",
   "name": "python",
   "nbconvert_exporter": "python",
   "pygments_lexer": "ipython2",
   "version": "2.7.6"
  }
 },
 "nbformat": 4,
 "nbformat_minor": 0
}